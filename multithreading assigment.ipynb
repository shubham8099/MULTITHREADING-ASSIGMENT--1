{
 "cells": [
  {
   "cell_type": "raw",
   "id": "50b6dff6-8e4f-443f-a16c-4682e9041557",
   "metadata": {},
   "source": [
    "Q1 - what is multithreading in the pyhton ? why is it used ? name the module use to handle thread in the pyhton."
   ]
  },
  {
   "cell_type": "raw",
   "id": "99de4501-2c42-4ef4-b4f3-dc494af5effc",
   "metadata": {},
   "source": [
    "*_* multithreading in the python is reffer to the concurent execution of mutliple thread with a simgle\n",
    "    python program . a thread is smallest unit of process in which multithread allows thread to excute multiple thread \n",
    "    concurrently which can improve the performance to complete the task . \n",
    "    \n",
    "    \n",
    "python have in-built module called 'threading' \n",
    "\n",
    "\n",
    "^_^ uses of mutlithreading Are :- multithreading are use in software devlopment for various reason and its primary \n",
    "                                  purpose to improve the efficency responsiveness of the program. \n",
    " \n",
    " Here are some case for whcih multithreading are used\n",
    " (i) Concurrency \n",
    " (ii) Responsiveness \n",
    " (iii) Parallemlism \n",
    " (iv)  I/O operations \n",
    " (v) Resource sharing \n",
    " \n",
    " \n",
    "^_^ The module which are used in multithreading is  called 'Threading' ."
   ]
  },
  {
   "cell_type": "raw",
   "id": "f437ed1d-5969-49a9-9afb-94da29dd8a08",
   "metadata": {},
   "source": [
    "Q2 - why thread module is used ? write the use of the following funtions.\n",
    "* activecount()\n",
    "* currentThread()\n",
    "* enumrate()"
   ]
  },
  {
   "cell_type": "raw",
   "id": "a535706c-5056-421e-a09f-656bbb3719a7",
   "metadata": {},
   "source": [
    "answer - thread module in python is used for multithreading which means it provide to way work with \n",
    "         multiple thread with a single python program ."
   ]
  },
  {
   "cell_type": "raw",
   "id": "fe7f4484-7c6e-4632-94f7-60c2f6ce87cb",
   "metadata": {},
   "source": [
    "^_^ Activecount is a method provide by 'threading' module. it is used to determine the number of thread object\n",
    "    that currently active and running in the python program . \n",
    "    \n",
    "^_^ CurrentThread is used for to obtain a reference to currently excuting thread . this function return a thread object that \n",
    "    the thread from which it is called . \n",
    "    \n",
    "^_^ The enumrate function in the python is used for to iterate through an iterable(such as list,tuple,string) while keeping\n",
    "    the track of both the elements and their corresponding ."
   ]
  },
  {
   "cell_type": "raw",
   "id": "d46467e4-5e63-4266-9a53-a41047f5a4db",
   "metadata": {},
   "source": [
    "Q3 - Explain the following functions:\n",
    "    \n",
    "    * run()\n",
    "    * start()\n",
    "    * join()\n",
    "    * isAlive()"
   ]
  },
  {
   "cell_type": "raw",
   "id": "af076692-72b6-4d61-8134-4c8dd2c48d35",
   "metadata": {},
   "source": [
    "^_^ Run() :- Run function Are basically are used for context of thread or process excution it is a part of threading or \n",
    "             multiprocessing framework and also use for Run code in seprate thread or process .\n",
    "\n",
    "^_^ Start() :- In the pyhton, the start() function is used for execution of thread created with threading module.It is \n",
    "               specifically used with instances of Thread class , and calling start() initiates the execution the target\n",
    "               function assigned to the thread . \n",
    "\n",
    "^_^ join() :- The join() method in the python is used for context of mutlithreading or multiprocessing to ensure that\n",
    "              one thread or process wait for the another thread to complete their execution before continuing its own\n",
    "              execution . It's a way to synchronize the execution of thread's processes, allows us to control their \n",
    "              order of completeing the process.\n",
    "              \n",
    "^_^ isAlive() :- In python isAlive() function is a method provided by the Threading module , And it is used for determine\n",
    "                 whether a thread is Active and Running . It return a boolean value 'True' if the Thread is Active and \n",
    "                 'False' if the thread has completed or has not yet started ."
   ]
  },
  {
   "cell_type": "raw",
   "id": "3f8a1927-6e15-4540-870d-35109b9ffcf5",
   "metadata": {},
   "source": [
    "Q4 Write a Python program to create two threads . thread one must print the list of Squares and thread two must \n",
    "   print the list of cubes ."
   ]
  },
  {
   "cell_type": "code",
   "execution_count": 4,
   "id": "e2f5edf2-2c2e-49a1-be14-14f0d2b5b218",
   "metadata": {},
   "outputs": [
    {
     "name": "stdout",
     "output_type": "stream",
     "text": [
      "list of squares:\n",
      "1 suared is 1\n",
      "2 suared is 4\n",
      "3 suared is 9\n",
      "4 suared is 16\n",
      "5 suared is 25\n",
      "6 suared is 36\n",
      "7 suared is 49\n",
      "list of cube:\n",
      "1 cube is 1\n",
      "2 cube is 8\n",
      "3 cube is 27\n",
      "4 cube is 64\n",
      "5 cube is 125\n",
      "6 cube is 216\n",
      "7 cube is 343\n",
      "both thread have finished\n"
     ]
    }
   ],
   "source": [
    "import threading \n",
    "\n",
    "def print_squares(n):\n",
    "    print(\"list of squares:\")\n",
    "    for i in range(1 , n+1):\n",
    "        print(f\"{i} suared is {i**2}\" )\n",
    "        \n",
    "def print_cubes(n):\n",
    "    print(\"list of cube:\")\n",
    "    for i in range(1 , n+1):\n",
    "        print(f\"{i} cube is {i**3}\")\n",
    "        \n",
    "        \n",
    "n = 7        \n",
    "  \n",
    "square_thread = threading.Thread(target=print_squares , args = (n,)) \n",
    "cube_thread = threading.Thread(target=print_cubes ,args =(n,))\n",
    "\n",
    "square_thread.start()\n",
    "cube_thread.start()\n",
    "\n",
    "square_thread.join()\n",
    "cube_thread.join()\n",
    "\n",
    "print(\"both thread have finished\")"
   ]
  },
  {
   "cell_type": "raw",
   "id": "38a795a5-8050-465f-8ab1-bc1ef5baa5b2",
   "metadata": {},
   "source": [
    "Q5 - state the advantages & disadvantage of multitheading . "
   ]
  },
  {
   "cell_type": "raw",
   "id": "ca41cd67-d535-4ae1-8fa3-643fef3b7a4c",
   "metadata": {},
   "source": [
    " ^_^ Advantages :- \n",
    "                  * improved Performance \n",
    "                  * Responsiveness\n",
    "                  * Resource Utilization\n",
    "                  * Concurrency\n",
    "                  * I/O Performance\n",
    "                  * Synchronization\n",
    "                  * Parallel Algorithms\n",
    "                  * Real-Time Processing\n",
    " \n",
    " ^_^ Disadvantge :-\n",
    "                  * Complexity\n",
    "                  * Race Conditions\n",
    "                  * Deadlocks\n",
    "                  * Resource Overhead\n",
    "                  * Debugging Challenges\n",
    "                  * Platform and Language Dependencies"
   ]
  },
  {
   "cell_type": "raw",
   "id": "420233cc-60e1-4c25-aa38-08a6a62ada0d",
   "metadata": {},
   "source": [
    "Q6 :- Explain Deadlock and race conditions :- "
   ]
  },
  {
   "cell_type": "raw",
   "id": "ac8a3a0e-2ebd-4091-a7d7-d4dbc03bad68",
   "metadata": {},
   "source": [
    "Answer - A deadlock is a situation in concurrent programming where two or more threads or processes are unable to proceed   because each of them is waiting for a resource that the other holds. In other words, a deadlock occurs when a group of  threads or processes becomes deadlocked, unable to make any progress, and remain in a state of suspended animation..\n",
    "\n",
    "     ^_^ Mutual Exclusion\n",
    "     ^_^ Hold and Wait\n",
    "     ^_^ No Preemption\n",
    "     ^_^ Circular Wait\n",
    "     \n",
    "*_* Race conditions :- A race condition is a situation in concurrent programming where the behavior of a program depends on the relative timing of events, and the program's correctness is compromised. Race conditions occur when multiple threads or processes access shared data or resources concurrently, and the outcome is unpredictable and dependent on the order of execution.. "
   ]
  },
  {
   "cell_type": "code",
   "execution_count": null,
   "id": "fdea3889-3348-4431-8e4c-0eec02440f9a",
   "metadata": {},
   "outputs": [],
   "source": []
  }
 ],
 "metadata": {
  "kernelspec": {
   "display_name": "Python 3 (ipykernel)",
   "language": "python",
   "name": "python3"
  },
  "language_info": {
   "codemirror_mode": {
    "name": "ipython",
    "version": 3
   },
   "file_extension": ".py",
   "mimetype": "text/x-python",
   "name": "python",
   "nbconvert_exporter": "python",
   "pygments_lexer": "ipython3",
   "version": "3.10.8"
  }
 },
 "nbformat": 4,
 "nbformat_minor": 5
}
